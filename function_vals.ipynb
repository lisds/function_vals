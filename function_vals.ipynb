{
 "cells": [
  {
   "cell_type": "code",
   "execution_count": null,
   "id": "b7703852",
   "metadata": {},
   "outputs": [],
   "source": [
    "# Load the OKpy test library and tests.\n",
    "from client.api.notebook import Notebook\n",
    "ok = Notebook('function_vals.ok')"
   ]
  },
  {
   "cell_type": "markdown",
   "id": "eadddd51",
   "metadata": {},
   "source": [
    "For background, please read the [functions as values page](https://lisds.github.io/textbook/functions-conditionals/functions_as_values).\n",
    "\n",
    "Consider these two functions:"
   ]
  },
  {
   "cell_type": "code",
   "execution_count": null,
   "id": "5577d213",
   "metadata": {},
   "outputs": [],
   "source": [
    "def add(a, b):\n",
    "    return a + b"
   ]
  },
  {
   "cell_type": "code",
   "execution_count": null,
   "id": "c920674b",
   "metadata": {},
   "outputs": [],
   "source": [
    "def sub(a, b):\n",
    "    return a - b"
   ]
  },
  {
   "cell_type": "markdown",
   "id": "72c4031e",
   "metadata": {},
   "source": [
    "Here's `add` in action:"
   ]
  },
  {
   "cell_type": "code",
   "execution_count": null,
   "id": "1ac6714f",
   "metadata": {},
   "outputs": [],
   "source": [
    "add(4, 1)"
   ]
  },
  {
   "cell_type": "markdown",
   "id": "cf709b38",
   "metadata": {},
   "source": [
    "Here's `sub` in action:"
   ]
  },
  {
   "cell_type": "code",
   "execution_count": null,
   "id": "3c4c8842",
   "metadata": {},
   "outputs": [],
   "source": [
    "sub(4, 1)"
   ]
  },
  {
   "cell_type": "markdown",
   "id": "71689870",
   "metadata": {},
   "source": [
    "There's some code below, that will error, because the assignment statement does\n",
    "not set `func_a` to have the value we need. Set `func_a` correctly so the\n",
    "result equals 7:"
   ]
  },
  {
   "cell_type": "code",
   "execution_count": null,
   "id": "87a948b1",
   "metadata": {},
   "outputs": [],
   "source": [
    "func_a = add()\n",
    "w = func_a(-1, 8)\n",
    "w"
   ]
  },
  {
   "cell_type": "code",
   "execution_count": null,
   "id": "fa5b5cc5",
   "metadata": {},
   "outputs": [],
   "source": [
    "_ = ok.grade('q_0_w')"
   ]
  },
  {
   "cell_type": "markdown",
   "id": "125482ef",
   "metadata": {},
   "source": [
    "Set `func_b` correctly in the code below so the result equals 2:"
   ]
  },
  {
   "cell_type": "code",
   "execution_count": null,
   "id": "0b2ea3d8",
   "metadata": {},
   "outputs": [],
   "source": [
    "func_b = add\n",
    "x = func_b(10, 8)\n",
    "x"
   ]
  },
  {
   "cell_type": "code",
   "execution_count": null,
   "id": "d1f164db",
   "metadata": {},
   "outputs": [],
   "source": [
    "_ = ok.grade('q_1_x')"
   ]
  },
  {
   "cell_type": "markdown",
   "id": "4390fa8e",
   "metadata": {},
   "source": [
    "Set `my_func1` and `my_func2` in the code fragment below, so that the\n",
    "result is 12:"
   ]
  },
  {
   "cell_type": "code",
   "execution_count": null,
   "id": "abaf7632",
   "metadata": {},
   "outputs": [],
   "source": [
    "my_func1 = ...\n",
    "my_func2 = ...\n",
    "y = my_func1(8, 2) + my_func2(3, 3)\n",
    "y"
   ]
  },
  {
   "cell_type": "code",
   "execution_count": null,
   "id": "f7635eda",
   "metadata": {},
   "outputs": [],
   "source": [
    "_ = ok.grade('q_2_y')"
   ]
  },
  {
   "cell_type": "markdown",
   "id": "14abffd9",
   "metadata": {},
   "source": [
    "Here is a function that takes three arguments.  The first, called `f`, should\n",
    "be set to a function value - that is, a value that is the internal\n",
    "representation of a function.  The second and third values, called `x` and `y`,\n",
    "should set to be number values."
   ]
  },
  {
   "cell_type": "code",
   "execution_count": null,
   "id": "f64dca36",
   "metadata": {},
   "outputs": [],
   "source": [
    "def do_it(f, x, y):\n",
    "    return f(x, y)"
   ]
  },
  {
   "cell_type": "markdown",
   "id": "63180204",
   "metadata": {},
   "source": [
    "Set `another_func` so the result returned is 4:"
   ]
  },
  {
   "cell_type": "code",
   "execution_count": null,
   "id": "8fe14ff8",
   "metadata": {},
   "outputs": [],
   "source": [
    "another_func = ...\n",
    "z = do_it(another_func, 1, 3)\n",
    "z"
   ]
  },
  {
   "cell_type": "code",
   "execution_count": null,
   "id": "50b62ecb",
   "metadata": {},
   "outputs": [],
   "source": [
    "_ = ok.grade('q_3_z')"
   ]
  },
  {
   "cell_type": "markdown",
   "id": "d83cc81c",
   "metadata": {},
   "source": [
    "## Done\n",
    "\n",
    "You're finished with the assignment!  Be sure to...\n",
    "\n",
    "- **run all the tests** (the next cell has a shortcut for that),\n",
    "- **Save and Checkpoint** from the \"File\" menu."
   ]
  },
  {
   "cell_type": "code",
   "execution_count": null,
   "id": "dde3653a",
   "metadata": {},
   "outputs": [],
   "source": [
    "# For your convenience, you can run this cell to run all the tests at once!\n",
    "import os\n",
    "_ = [ok.grade(q[:-3]) for q in os.listdir(\"tests\") if q.startswith('q')]"
   ]
  }
 ],
 "metadata": {
  "jupytext": {
   "notebook_metadata_filter": "all,-language_info",
   "text_representation": {
    "extension": ".Rmd",
    "format_name": "rmarkdown",
    "format_version": "1.0",
    "jupytext_version": "0.8.6"
   }
  },
  "kernelspec": {
   "display_name": "Python 3",
   "language": "python",
   "name": "python3"
  },
  "textbook": {
   "run": false
  }
 },
 "nbformat": 4,
 "nbformat_minor": 5
}
